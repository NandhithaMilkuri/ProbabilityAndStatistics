{
  "nbformat": 4,
  "nbformat_minor": 0,
  "metadata": {
    "colab": {
      "provenance": [],
      "authorship_tag": "ABX9TyNRZYmCk/O+5qvZgRSs7ggq",
      "include_colab_link": true
    },
    "kernelspec": {
      "name": "python3",
      "display_name": "Python 3"
    },
    "language_info": {
      "name": "python"
    }
  },
  "cells": [
    {
      "cell_type": "markdown",
      "metadata": {
        "id": "view-in-github",
        "colab_type": "text"
      },
      "source": [
        "<a href=\"https://colab.research.google.com/github/NandhithaMilkuri/ProbabilityAndStatistics/blob/main/Lab1_MeanAndVariance.ipynb\" target=\"_parent\"><img src=\"https://colab.research.google.com/assets/colab-badge.svg\" alt=\"Open In Colab\"/></a>"
      ]
    },
    {
      "cell_type": "code",
      "execution_count": 2,
      "metadata": {
        "colab": {
          "base_uri": "https://localhost:8080/"
        },
        "id": "8pkCNVQauZ1V",
        "outputId": "8aefb447-618a-45d7-da00-ab0e48254da7"
      },
      "outputs": [
        {
          "output_type": "stream",
          "name": "stdout",
          "text": [
            "Enter the data values separated by spaces: 2 3 4 5 6 7 8  2 3 4 6 7 8 9 45 6\n",
            "\n",
            "Value\tFrequency\tRelative Frequency\tPercentage Frequency\n",
            "2\t2\t\t0.1250\t\t\t12.50%\n",
            "3\t2\t\t0.1250\t\t\t12.50%\n",
            "4\t2\t\t0.1250\t\t\t12.50%\n",
            "5\t1\t\t0.0625\t\t\t6.25%\n",
            "6\t3\t\t0.1875\t\t\t18.75%\n",
            "7\t2\t\t0.1250\t\t\t12.50%\n",
            "8\t2\t\t0.1250\t\t\t12.50%\n",
            "9\t1\t\t0.0625\t\t\t6.25%\n",
            "45\t1\t\t0.0625\t\t\t6.25%\n",
            "Enter the data values separated by spaces: 3 4 5 67 55 443  33 22 22 88 9  9\n",
            "\n",
            "Class_Interval\tFrequency\n",
            "3 - 53\t8\n",
            "53 - 103\t3\n",
            "103 - 153\t0\n",
            "153 - 203\t0\n",
            "203 - 253\t0\n",
            "253 - 303\t0\n",
            "303 - 353\t0\n",
            "353 - 403\t0\n",
            "403 - 453\t1\n"
          ]
        }
      ],
      "source": [
        "from collections import Counter\n",
        "\n",
        "# Step 1: Input data from user\n",
        "data = list(map(int, input(\"Enter the data values separated by spaces: \").split()))\n",
        "\n",
        "# Step 2: Calculate frequency\n",
        "frequency = Counter(data)\n",
        "\n",
        "# Step 3: Total observations\n",
        "total_observations = len(data)\n",
        "\n",
        "# Step 4: Display results\n",
        "print(\"\\nValue\\tFrequency\\tRelative Frequency\\tPercentage Frequency\")\n",
        "for value, freq in sorted(frequency.items()):\n",
        "    relative_frequency = freq / total_observations\n",
        "    percentage_frequency = relative_frequency * 100\n",
        "    print(f\"{value}\\t{freq}\\t\\t{relative_frequency:.4f}\\t\\t\\t{percentage_frequency:.2f}%\")\n",
        "\n",
        "# Step 1: Input data\n",
        "data_input = input(\"Enter the data values separated by spaces: \")\n",
        "data = []  # Initialize an empty list\n",
        "for value in data_input.split():  # Split the input string into parts\n",
        "    data.append(int(value))  # Convert each part to an integer and add it to the list\n",
        "\n",
        "interval_size = 50\n",
        "\n",
        "# Step 2: Find the range of data\n",
        "min_value = min(data)\n",
        "max_value = max(data)\n",
        "\n",
        "# Step 3: Create intervals\n",
        "intervals = []\n",
        "start = min_value\n",
        "while start <= max_value:\n",
        "    intervals.append((start, start + interval_size))\n",
        "    start += interval_size\n",
        "\n",
        "# Step 4: Count frequencies using nested loops\n",
        "frequencies = []\n",
        "for lower, upper in intervals:\n",
        "    count = 0  # Initialize count for the interval\n",
        "    for x in data:  # Loop through all data points\n",
        "        if x >= lower:\n",
        "            if x < upper:\n",
        "                count += 1\n",
        "    frequencies.append(count)\n",
        "\n",
        "# Step 5: Print the frequency table without zip()\n",
        "print(\"\\nClass_Interval\\tFrequency\")\n",
        "for i in range(len(intervals)):  # Loop through the index of the intervals list\n",
        "    lower, upper = intervals[i]  # Get the interval bounds\n",
        "    freq = frequencies[i]        # Get the corresponding frequency\n",
        "    print(f\"{lower} - {upper}\\t{freq}\")\n"
      ]
    }
  ]
}