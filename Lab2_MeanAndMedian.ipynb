{
  "nbformat": 4,
  "nbformat_minor": 0,
  "metadata": {
    "colab": {
      "provenance": [],
      "authorship_tag": "ABX9TyPv73co8AwfsUNoVjh7jcwx",
      "include_colab_link": true
    },
    "kernelspec": {
      "name": "python3",
      "display_name": "Python 3"
    },
    "language_info": {
      "name": "python"
    }
  },
  "cells": [
    {
      "cell_type": "markdown",
      "metadata": {
        "id": "view-in-github",
        "colab_type": "text"
      },
      "source": [
        "<a href=\"https://colab.research.google.com/github/NandhithaMilkuri/ProbabilityAndStatistics/blob/main/Lab2_MeanAndMedian.ipynb\" target=\"_parent\"><img src=\"https://colab.research.google.com/assets/colab-badge.svg\" alt=\"Open In Colab\"/></a>"
      ]
    },
    {
      "cell_type": "code",
      "execution_count": 1,
      "metadata": {
        "colab": {
          "base_uri": "https://localhost:8080/"
        },
        "id": "PNg2nb8Sv5l8",
        "outputId": "86111792-ff65-4a8a-dcee-c17223b12d1d"
      },
      "outputs": [
        {
          "output_type": "stream",
          "name": "stdout",
          "text": [
            "Mean of the sample data is: 88.0\n",
            "Mean of the frequency distribution is: 18.24074074074074\n",
            "Mean of the class_interval frequency distribution is: 28.0\n",
            "7\n",
            "Median of the sample data: 23\n",
            "6\n",
            "7\n",
            "Median of the sample data: 22.0\n"
          ]
        }
      ],
      "source": [
        "import numpy as np\n",
        "data=np.array([85,92,78,89,95,87,90])\n",
        "mean=sum(data)/len(data)\n",
        "print(\"Mean of the sample data is:\",mean)\n",
        "\n",
        "\n",
        "#2nd question\n",
        "values=np.array([15,16,17,18,19,20])\n",
        "frequencies=np.array([2,5,11,9,14,13])\n",
        "sum_fx=sum(f*x for f,x in zip(frequencies,values))\n",
        "sum_f=sum(frequencies)\n",
        "mean1=sum_fx/sum_f\n",
        "print(\"Mean of the frequency distribution is:\",mean1)\n",
        "\n",
        "\n",
        "#3rd\n",
        "class_intervals=[(0,10),(10,20),(20,30),(30,40),(40,50),(50,60)]\n",
        "frequencies2=[12,18,27,20,17,6]\n",
        "midpoints=[(start+end)/2 for start,end in class_intervals]\n",
        "sum_fm=sum(f1*m for f1,m in zip(frequencies2,midpoints))\n",
        "sum_f1=sum(frequencies2)\n",
        "mean2=sum_fm/sum_f1\n",
        "print(\"Mean of the class_interval frequency distribution is:\",mean2)\n",
        "\n",
        "#4th\n",
        "data1=[3,13,7,5,21,23,39,23,40,23,14,12,56,23,29]\n",
        "data_sorted=sorted(data1)\n",
        "middle_index=len(data_sorted)//2\n",
        "print(middle_index)\n",
        "median=data_sorted[middle_index]\n",
        "print(\"Median of the sample data:\",median)\n",
        "\n",
        "#5Th\n",
        "data2=[3,13,7,5,21,23,23,40,23,14,12,56,23,29]\n",
        "data_sorted=sorted(data2)\n",
        "middle_index1=len(data_sorted)//2-1\n",
        "middle_index2=len(data_sorted)//2\n",
        "print(middle_index1)\n",
        "print(middle_index2)\n",
        "median1=(data_sorted[middle_index1]+data_sorted[middle_index2])/2\n",
        "print(\"Median of the sample data:\",median1)\n",
        "\n",
        "\n",
        "\n"
      ]
    }
  ]
}