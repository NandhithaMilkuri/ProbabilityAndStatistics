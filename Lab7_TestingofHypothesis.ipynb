{
  "nbformat": 4,
  "nbformat_minor": 0,
  "metadata": {
    "colab": {
      "provenance": [],
      "authorship_tag": "ABX9TyM64H7uRglGG94MMKPmQzCo",
      "include_colab_link": true
    },
    "kernelspec": {
      "name": "python3",
      "display_name": "Python 3"
    },
    "language_info": {
      "name": "python"
    }
  },
  "cells": [
    {
      "cell_type": "markdown",
      "metadata": {
        "id": "view-in-github",
        "colab_type": "text"
      },
      "source": [
        "<a href=\"https://colab.research.google.com/github/NandhithaMilkuri/ProbabilityAndStatistics/blob/main/Lab7_TestingofHypothesis.ipynb\" target=\"_parent\"><img src=\"https://colab.research.google.com/assets/colab-badge.svg\" alt=\"Open In Colab\"/></a>"
      ]
    },
    {
      "cell_type": "code",
      "execution_count": 1,
      "metadata": {
        "colab": {
          "base_uri": "https://localhost:8080/"
        },
        "id": "AxTX2Dgdf8ge",
        "outputId": "f014b1c7-6999-4d3f-fe1b-8e79e92bf969"
      },
      "outputs": [
        {
          "output_type": "stream",
          "name": "stdout",
          "text": [
            "Sample Mean: 27466.67\n",
            "Sample Standard Deviation: 3748.65\n",
            "95% Confidence Interval: (25390.73, 29542.60)\n",
            "Reject the claim: The actual mean is significantly different from ₹30,000.\n"
          ]
        }
      ],
      "source": [
        "import numpy as np\n",
        "import scipy.stats as stats\n",
        "data = np.array([25000, 31000, 20000, 28000, 29500, 32000, 21000, 30500,\n",
        "                 27000, 28500, 30000, 23000, 31000, 26000, 29500])"
      ]
    },
    {
      "cell_type": "code",
      "source": [
        "sample_mean = np.mean(data)\n",
        "sample_std = np.std(data, ddof=1)\n",
        "print(f\"1. Sample Mean: {sample_mean:.2f}\")\n",
        "print(f\"2. Sample Standard Deviation: {sample_std:.2f}\")\n"
      ],
      "metadata": {
        "colab": {
          "base_uri": "https://localhost:8080/"
        },
        "id": "BZYdMH38gzfw",
        "outputId": "f70f98f3-295d-4df4-9b5a-c0b8036df393"
      },
      "execution_count": 4,
      "outputs": [
        {
          "output_type": "stream",
          "name": "stdout",
          "text": [
            "1. Sample Mean: 27466.67\n",
            "2. Sample Standard Deviation: 3748.65\n"
          ]
        }
      ]
    },
    {
      "cell_type": "code",
      "source": [
        "n = len(data)\n",
        "alpha = 0.05\n",
        "t_critical = stats.t.ppf(1 - alpha/2, df=n-1)\n",
        "margin_of_error = t_critical * (sample_std / np.sqrt(n))\n",
        "confidence_interval = (sample_mean - margin_of_error, sample_mean + margin_of_error)\n",
        "print(f\"2. 95% Confidence Interval: ({confidence_interval[0]:.2f}, {confidence_interval[1]:.2f})\")\n"
      ],
      "metadata": {
        "colab": {
          "base_uri": "https://localhost:8080/"
        },
        "id": "9hP4rQCxhA2S",
        "outputId": "03c5de4a-d25e-442f-91d8-da05b887ea8a"
      },
      "execution_count": 5,
      "outputs": [
        {
          "output_type": "stream",
          "name": "stdout",
          "text": [
            "2. 95% Confidence Interval: (25390.73, 29542.60)\n"
          ]
        }
      ]
    },
    {
      "cell_type": "code",
      "source": [
        "claimed_mean = 30000\n",
        "if confidence_interval[0] <= claimed_mean <= confidence_interval[1]:\n",
        "    print(\"3. Fail to reject the claim: The actual mean may not be significantly different.\")\n",
        "else:\n",
        "    print(\"3. Reject the claim: The actual mean is significantly different from ₹30,000.\")\n"
      ],
      "metadata": {
        "colab": {
          "base_uri": "https://localhost:8080/"
        },
        "id": "fQubLkqch1i1",
        "outputId": "ee69aacb-63e5-478b-836e-bb05f5d29c4f"
      },
      "execution_count": 6,
      "outputs": [
        {
          "output_type": "stream",
          "name": "stdout",
          "text": [
            "3. Reject the claim: The actual mean is significantly different from ₹30,000.\n"
          ]
        }
      ]
    }
  ]
}